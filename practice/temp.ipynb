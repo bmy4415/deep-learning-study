{
 "cells": [
  {
   "cell_type": "code",
   "execution_count": 21,
   "metadata": {},
   "outputs": [
    {
     "name": "stdout",
     "output_type": "stream",
     "text": [
      "[[0 0 0 0 0]\n",
      " [0 0 0 0 0]\n",
      " [0 0 0 0 0]]\n",
      "--------------\n",
      "[[0]\n",
      " [1]\n",
      " [2]]\n",
      "-------------\n",
      "[[0 0 0 0 0]\n",
      " [1 1 1 1 1]\n",
      " [2 2 2 2 2]]\n"
     ]
    }
   ],
   "source": [
    "import numpy as np\n",
    "\n",
    "# C = np.arange(15, dtype=np.int64).reshape(3,5)\n",
    "A = np.zeros((3,5), dtype=np.int64)\n",
    "B = np.arange(3, dtype=np.int64).reshape(3,1)\n",
    "\n",
    "print(A)\n",
    "print('--------------')\n",
    "print(B)\n",
    "print('-------------')\n",
    "print(A+B)"
   ]
  }
 ],
 "metadata": {
  "kernelspec": {
   "display_name": "Python 3",
   "language": "python",
   "name": "python3"
  },
  "language_info": {
   "codemirror_mode": {
    "name": "ipython",
    "version": 3
   },
   "file_extension": ".py",
   "mimetype": "text/x-python",
   "name": "python",
   "nbconvert_exporter": "python",
   "pygments_lexer": "ipython3",
   "version": "3.5.4"
  }
 },
 "nbformat": 4,
 "nbformat_minor": 2
}
