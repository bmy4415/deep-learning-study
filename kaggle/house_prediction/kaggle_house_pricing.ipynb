{
 "cells": [
  {
   "cell_type": "markdown",
   "metadata": {},
   "source": [
    "# https://www.kaggle.com/c/2019-2nd-ml-month-with-kakr/"
   ]
  },
  {
   "cell_type": "markdown",
   "metadata": {},
   "source": [
    "# 1. import modules"
   ]
  },
  {
   "cell_type": "code",
   "execution_count": 5,
   "metadata": {},
   "outputs": [
    {
     "name": "stderr",
     "output_type": "stream",
     "text": [
      "Using TensorFlow backend.\n"
     ]
    }
   ],
   "source": [
    "import pandas as pd\n",
    "import numpy as np\n",
    "import matplotlib.pyplot as plt\n",
    "import seaborn as sns # matplotlib와 같이쓰면 prettier 가능\n",
    "\n",
    "from keras.models import Sequential\n",
    "from keras.layers import Dense, Dropout\n",
    "from keras.optimizers import Adam\n",
    "from keras.callbacks import EarlyStopping\n",
    "from keras import backend as K\n",
    "\n",
    "from sklearn.model_selection import train_test_split\n",
    "from sklearn.linear_model import LinearRegression\n",
    "\n",
    "%matplotlib inline\n",
    "sns.set() # convert visualize style to seaborn style"
   ]
  },
  {
   "cell_type": "markdown",
   "metadata": {},
   "source": [
    "# 2. load train data and explore"
   ]
  },
  {
   "cell_type": "code",
   "execution_count": 6,
   "metadata": {},
   "outputs": [],
   "source": [
    "train_df = pd.read_csv('./data/train.csv')\n",
    "test_df = pd.read_csv('./data/test.csv')"
   ]
  },
  {
   "cell_type": "code",
   "execution_count": 7,
   "metadata": {},
   "outputs": [
    {
     "data": {
      "text/html": [
       "<div>\n",
       "<style scoped>\n",
       "    .dataframe tbody tr th:only-of-type {\n",
       "        vertical-align: middle;\n",
       "    }\n",
       "\n",
       "    .dataframe tbody tr th {\n",
       "        vertical-align: top;\n",
       "    }\n",
       "\n",
       "    .dataframe thead th {\n",
       "        text-align: right;\n",
       "    }\n",
       "</style>\n",
       "<table border=\"1\" class=\"dataframe\">\n",
       "  <thead>\n",
       "    <tr style=\"text-align: right;\">\n",
       "      <th></th>\n",
       "      <th>id</th>\n",
       "      <th>date</th>\n",
       "      <th>price</th>\n",
       "      <th>bedrooms</th>\n",
       "      <th>bathrooms</th>\n",
       "      <th>sqft_living</th>\n",
       "      <th>sqft_lot</th>\n",
       "      <th>floors</th>\n",
       "      <th>waterfront</th>\n",
       "      <th>view</th>\n",
       "      <th>condition</th>\n",
       "      <th>grade</th>\n",
       "      <th>sqft_above</th>\n",
       "      <th>sqft_basement</th>\n",
       "      <th>yr_built</th>\n",
       "      <th>yr_renovated</th>\n",
       "      <th>zipcode</th>\n",
       "      <th>lat</th>\n",
       "      <th>long</th>\n",
       "      <th>sqft_living15</th>\n",
       "      <th>sqft_lot15</th>\n",
       "    </tr>\n",
       "  </thead>\n",
       "  <tbody>\n",
       "    <tr>\n",
       "      <th>0</th>\n",
       "      <td>0</td>\n",
       "      <td>20141013T000000</td>\n",
       "      <td>221900.0</td>\n",
       "      <td>3</td>\n",
       "      <td>1.00</td>\n",
       "      <td>1180</td>\n",
       "      <td>5650</td>\n",
       "      <td>1.0</td>\n",
       "      <td>0</td>\n",
       "      <td>0</td>\n",
       "      <td>3</td>\n",
       "      <td>7</td>\n",
       "      <td>1180</td>\n",
       "      <td>0</td>\n",
       "      <td>1955</td>\n",
       "      <td>0</td>\n",
       "      <td>98178</td>\n",
       "      <td>47.5112</td>\n",
       "      <td>-122.257</td>\n",
       "      <td>1340</td>\n",
       "      <td>5650</td>\n",
       "    </tr>\n",
       "    <tr>\n",
       "      <th>1</th>\n",
       "      <td>1</td>\n",
       "      <td>20150225T000000</td>\n",
       "      <td>180000.0</td>\n",
       "      <td>2</td>\n",
       "      <td>1.00</td>\n",
       "      <td>770</td>\n",
       "      <td>10000</td>\n",
       "      <td>1.0</td>\n",
       "      <td>0</td>\n",
       "      <td>0</td>\n",
       "      <td>3</td>\n",
       "      <td>6</td>\n",
       "      <td>770</td>\n",
       "      <td>0</td>\n",
       "      <td>1933</td>\n",
       "      <td>0</td>\n",
       "      <td>98028</td>\n",
       "      <td>47.7379</td>\n",
       "      <td>-122.233</td>\n",
       "      <td>2720</td>\n",
       "      <td>8062</td>\n",
       "    </tr>\n",
       "    <tr>\n",
       "      <th>2</th>\n",
       "      <td>2</td>\n",
       "      <td>20150218T000000</td>\n",
       "      <td>510000.0</td>\n",
       "      <td>3</td>\n",
       "      <td>2.00</td>\n",
       "      <td>1680</td>\n",
       "      <td>8080</td>\n",
       "      <td>1.0</td>\n",
       "      <td>0</td>\n",
       "      <td>0</td>\n",
       "      <td>3</td>\n",
       "      <td>8</td>\n",
       "      <td>1680</td>\n",
       "      <td>0</td>\n",
       "      <td>1987</td>\n",
       "      <td>0</td>\n",
       "      <td>98074</td>\n",
       "      <td>47.6168</td>\n",
       "      <td>-122.045</td>\n",
       "      <td>1800</td>\n",
       "      <td>7503</td>\n",
       "    </tr>\n",
       "    <tr>\n",
       "      <th>3</th>\n",
       "      <td>3</td>\n",
       "      <td>20140627T000000</td>\n",
       "      <td>257500.0</td>\n",
       "      <td>3</td>\n",
       "      <td>2.25</td>\n",
       "      <td>1715</td>\n",
       "      <td>6819</td>\n",
       "      <td>2.0</td>\n",
       "      <td>0</td>\n",
       "      <td>0</td>\n",
       "      <td>3</td>\n",
       "      <td>7</td>\n",
       "      <td>1715</td>\n",
       "      <td>0</td>\n",
       "      <td>1995</td>\n",
       "      <td>0</td>\n",
       "      <td>98003</td>\n",
       "      <td>47.3097</td>\n",
       "      <td>-122.327</td>\n",
       "      <td>2238</td>\n",
       "      <td>6819</td>\n",
       "    </tr>\n",
       "    <tr>\n",
       "      <th>4</th>\n",
       "      <td>4</td>\n",
       "      <td>20150115T000000</td>\n",
       "      <td>291850.0</td>\n",
       "      <td>3</td>\n",
       "      <td>1.50</td>\n",
       "      <td>1060</td>\n",
       "      <td>9711</td>\n",
       "      <td>1.0</td>\n",
       "      <td>0</td>\n",
       "      <td>0</td>\n",
       "      <td>3</td>\n",
       "      <td>7</td>\n",
       "      <td>1060</td>\n",
       "      <td>0</td>\n",
       "      <td>1963</td>\n",
       "      <td>0</td>\n",
       "      <td>98198</td>\n",
       "      <td>47.4095</td>\n",
       "      <td>-122.315</td>\n",
       "      <td>1650</td>\n",
       "      <td>9711</td>\n",
       "    </tr>\n",
       "  </tbody>\n",
       "</table>\n",
       "</div>"
      ],
      "text/plain": [
       "   id             date     price  bedrooms  bathrooms  sqft_living  sqft_lot  \\\n",
       "0   0  20141013T000000  221900.0         3       1.00         1180      5650   \n",
       "1   1  20150225T000000  180000.0         2       1.00          770     10000   \n",
       "2   2  20150218T000000  510000.0         3       2.00         1680      8080   \n",
       "3   3  20140627T000000  257500.0         3       2.25         1715      6819   \n",
       "4   4  20150115T000000  291850.0         3       1.50         1060      9711   \n",
       "\n",
       "   floors  waterfront  view  condition  grade  sqft_above  sqft_basement  \\\n",
       "0     1.0           0     0          3      7        1180              0   \n",
       "1     1.0           0     0          3      6         770              0   \n",
       "2     1.0           0     0          3      8        1680              0   \n",
       "3     2.0           0     0          3      7        1715              0   \n",
       "4     1.0           0     0          3      7        1060              0   \n",
       "\n",
       "   yr_built  yr_renovated  zipcode      lat     long  sqft_living15  \\\n",
       "0      1955             0    98178  47.5112 -122.257           1340   \n",
       "1      1933             0    98028  47.7379 -122.233           2720   \n",
       "2      1987             0    98074  47.6168 -122.045           1800   \n",
       "3      1995             0    98003  47.3097 -122.327           2238   \n",
       "4      1963             0    98198  47.4095 -122.315           1650   \n",
       "\n",
       "   sqft_lot15  \n",
       "0        5650  \n",
       "1        8062  \n",
       "2        7503  \n",
       "3        6819  \n",
       "4        9711  "
      ]
     },
     "execution_count": 7,
     "metadata": {},
     "output_type": "execute_result"
    }
   ],
   "source": [
    "pd.set_option('display.max_columns', None)\n",
    "train_df.head()"
   ]
  },
  {
   "cell_type": "code",
   "execution_count": 8,
   "metadata": {},
   "outputs": [
    {
     "name": "stdout",
     "output_type": "stream",
     "text": [
      "<class 'pandas.core.frame.DataFrame'>\n",
      "RangeIndex: 15035 entries, 0 to 15034\n",
      "Data columns (total 21 columns):\n",
      "id               15035 non-null int64\n",
      "date             15035 non-null object\n",
      "price            15035 non-null float64\n",
      "bedrooms         15035 non-null int64\n",
      "bathrooms        15035 non-null float64\n",
      "sqft_living      15035 non-null int64\n",
      "sqft_lot         15035 non-null int64\n",
      "floors           15035 non-null float64\n",
      "waterfront       15035 non-null int64\n",
      "view             15035 non-null int64\n",
      "condition        15035 non-null int64\n",
      "grade            15035 non-null int64\n",
      "sqft_above       15035 non-null int64\n",
      "sqft_basement    15035 non-null int64\n",
      "yr_built         15035 non-null int64\n",
      "yr_renovated     15035 non-null int64\n",
      "zipcode          15035 non-null int64\n",
      "lat              15035 non-null float64\n",
      "long             15035 non-null float64\n",
      "sqft_living15    15035 non-null int64\n",
      "sqft_lot15       15035 non-null int64\n",
      "dtypes: float64(5), int64(15), object(1)\n",
      "memory usage: 2.4+ MB\n"
     ]
    }
   ],
   "source": [
    "train_df.info()"
   ]
  },
  {
   "cell_type": "code",
   "execution_count": 9,
   "metadata": {},
   "outputs": [
    {
     "data": {
      "text/html": [
       "<div>\n",
       "<style scoped>\n",
       "    .dataframe tbody tr th:only-of-type {\n",
       "        vertical-align: middle;\n",
       "    }\n",
       "\n",
       "    .dataframe tbody tr th {\n",
       "        vertical-align: top;\n",
       "    }\n",
       "\n",
       "    .dataframe thead th {\n",
       "        text-align: right;\n",
       "    }\n",
       "</style>\n",
       "<table border=\"1\" class=\"dataframe\">\n",
       "  <thead>\n",
       "    <tr style=\"text-align: right;\">\n",
       "      <th></th>\n",
       "      <th>id</th>\n",
       "      <th>price</th>\n",
       "      <th>bedrooms</th>\n",
       "      <th>bathrooms</th>\n",
       "      <th>sqft_living</th>\n",
       "      <th>sqft_lot</th>\n",
       "      <th>floors</th>\n",
       "      <th>waterfront</th>\n",
       "      <th>view</th>\n",
       "      <th>condition</th>\n",
       "      <th>grade</th>\n",
       "      <th>sqft_above</th>\n",
       "      <th>sqft_basement</th>\n",
       "      <th>yr_built</th>\n",
       "      <th>yr_renovated</th>\n",
       "      <th>zipcode</th>\n",
       "      <th>lat</th>\n",
       "      <th>long</th>\n",
       "      <th>sqft_living15</th>\n",
       "      <th>sqft_lot15</th>\n",
       "    </tr>\n",
       "  </thead>\n",
       "  <tbody>\n",
       "    <tr>\n",
       "      <th>count</th>\n",
       "      <td>15035.000000</td>\n",
       "      <td>1.503500e+04</td>\n",
       "      <td>15035.000000</td>\n",
       "      <td>15035.000000</td>\n",
       "      <td>15035.000000</td>\n",
       "      <td>1.503500e+04</td>\n",
       "      <td>15035.000000</td>\n",
       "      <td>15035.000000</td>\n",
       "      <td>15035.000000</td>\n",
       "      <td>15035.000000</td>\n",
       "      <td>15035.000000</td>\n",
       "      <td>15035.000000</td>\n",
       "      <td>15035.000000</td>\n",
       "      <td>15035.000000</td>\n",
       "      <td>15035.000000</td>\n",
       "      <td>15035.000000</td>\n",
       "      <td>15035.000000</td>\n",
       "      <td>15035.000000</td>\n",
       "      <td>15035.000000</td>\n",
       "      <td>15035.000000</td>\n",
       "    </tr>\n",
       "    <tr>\n",
       "      <th>mean</th>\n",
       "      <td>7517.000000</td>\n",
       "      <td>5.406827e+05</td>\n",
       "      <td>3.369139</td>\n",
       "      <td>2.115065</td>\n",
       "      <td>2083.790223</td>\n",
       "      <td>1.529697e+04</td>\n",
       "      <td>1.498071</td>\n",
       "      <td>0.007117</td>\n",
       "      <td>0.234253</td>\n",
       "      <td>3.406651</td>\n",
       "      <td>7.660725</td>\n",
       "      <td>1794.158164</td>\n",
       "      <td>289.632059</td>\n",
       "      <td>1971.100432</td>\n",
       "      <td>83.798936</td>\n",
       "      <td>98078.031726</td>\n",
       "      <td>47.560721</td>\n",
       "      <td>-122.213677</td>\n",
       "      <td>1992.754772</td>\n",
       "      <td>12823.884935</td>\n",
       "    </tr>\n",
       "    <tr>\n",
       "      <th>std</th>\n",
       "      <td>4340.374984</td>\n",
       "      <td>3.715247e+05</td>\n",
       "      <td>0.902721</td>\n",
       "      <td>0.767519</td>\n",
       "      <td>922.134087</td>\n",
       "      <td>4.261282e+04</td>\n",
       "      <td>0.538522</td>\n",
       "      <td>0.084063</td>\n",
       "      <td>0.763376</td>\n",
       "      <td>0.646505</td>\n",
       "      <td>1.179803</td>\n",
       "      <td>831.738609</td>\n",
       "      <td>440.663284</td>\n",
       "      <td>29.407612</td>\n",
       "      <td>400.398498</td>\n",
       "      <td>53.297815</td>\n",
       "      <td>0.138164</td>\n",
       "      <td>0.141294</td>\n",
       "      <td>691.456442</td>\n",
       "      <td>27736.259787</td>\n",
       "    </tr>\n",
       "    <tr>\n",
       "      <th>min</th>\n",
       "      <td>0.000000</td>\n",
       "      <td>7.800000e+04</td>\n",
       "      <td>0.000000</td>\n",
       "      <td>0.000000</td>\n",
       "      <td>290.000000</td>\n",
       "      <td>5.200000e+02</td>\n",
       "      <td>1.000000</td>\n",
       "      <td>0.000000</td>\n",
       "      <td>0.000000</td>\n",
       "      <td>1.000000</td>\n",
       "      <td>1.000000</td>\n",
       "      <td>290.000000</td>\n",
       "      <td>0.000000</td>\n",
       "      <td>1900.000000</td>\n",
       "      <td>0.000000</td>\n",
       "      <td>98001.000000</td>\n",
       "      <td>47.155900</td>\n",
       "      <td>-122.519000</td>\n",
       "      <td>399.000000</td>\n",
       "      <td>651.000000</td>\n",
       "    </tr>\n",
       "    <tr>\n",
       "      <th>25%</th>\n",
       "      <td>3758.500000</td>\n",
       "      <td>3.220000e+05</td>\n",
       "      <td>3.000000</td>\n",
       "      <td>1.750000</td>\n",
       "      <td>1430.000000</td>\n",
       "      <td>5.027500e+03</td>\n",
       "      <td>1.000000</td>\n",
       "      <td>0.000000</td>\n",
       "      <td>0.000000</td>\n",
       "      <td>3.000000</td>\n",
       "      <td>7.000000</td>\n",
       "      <td>1190.000000</td>\n",
       "      <td>0.000000</td>\n",
       "      <td>1951.000000</td>\n",
       "      <td>0.000000</td>\n",
       "      <td>98033.000000</td>\n",
       "      <td>47.472700</td>\n",
       "      <td>-122.328000</td>\n",
       "      <td>1490.000000</td>\n",
       "      <td>5100.000000</td>\n",
       "    </tr>\n",
       "    <tr>\n",
       "      <th>50%</th>\n",
       "      <td>7517.000000</td>\n",
       "      <td>4.500000e+05</td>\n",
       "      <td>3.000000</td>\n",
       "      <td>2.250000</td>\n",
       "      <td>1910.000000</td>\n",
       "      <td>7.620000e+03</td>\n",
       "      <td>1.500000</td>\n",
       "      <td>0.000000</td>\n",
       "      <td>0.000000</td>\n",
       "      <td>3.000000</td>\n",
       "      <td>7.000000</td>\n",
       "      <td>1570.000000</td>\n",
       "      <td>0.000000</td>\n",
       "      <td>1975.000000</td>\n",
       "      <td>0.000000</td>\n",
       "      <td>98065.000000</td>\n",
       "      <td>47.571900</td>\n",
       "      <td>-122.231000</td>\n",
       "      <td>1850.000000</td>\n",
       "      <td>7610.000000</td>\n",
       "    </tr>\n",
       "    <tr>\n",
       "      <th>75%</th>\n",
       "      <td>11275.500000</td>\n",
       "      <td>6.450000e+05</td>\n",
       "      <td>4.000000</td>\n",
       "      <td>2.500000</td>\n",
       "      <td>2560.000000</td>\n",
       "      <td>1.069550e+04</td>\n",
       "      <td>2.000000</td>\n",
       "      <td>0.000000</td>\n",
       "      <td>0.000000</td>\n",
       "      <td>4.000000</td>\n",
       "      <td>8.000000</td>\n",
       "      <td>2230.000000</td>\n",
       "      <td>550.000000</td>\n",
       "      <td>1997.000000</td>\n",
       "      <td>0.000000</td>\n",
       "      <td>98117.000000</td>\n",
       "      <td>47.678300</td>\n",
       "      <td>-122.126000</td>\n",
       "      <td>2360.000000</td>\n",
       "      <td>10076.000000</td>\n",
       "    </tr>\n",
       "    <tr>\n",
       "      <th>max</th>\n",
       "      <td>15034.000000</td>\n",
       "      <td>7.700000e+06</td>\n",
       "      <td>10.000000</td>\n",
       "      <td>8.000000</td>\n",
       "      <td>13540.000000</td>\n",
       "      <td>1.651359e+06</td>\n",
       "      <td>3.500000</td>\n",
       "      <td>1.000000</td>\n",
       "      <td>4.000000</td>\n",
       "      <td>5.000000</td>\n",
       "      <td>13.000000</td>\n",
       "      <td>9410.000000</td>\n",
       "      <td>4130.000000</td>\n",
       "      <td>2015.000000</td>\n",
       "      <td>2015.000000</td>\n",
       "      <td>98199.000000</td>\n",
       "      <td>47.777600</td>\n",
       "      <td>-121.315000</td>\n",
       "      <td>6210.000000</td>\n",
       "      <td>871200.000000</td>\n",
       "    </tr>\n",
       "  </tbody>\n",
       "</table>\n",
       "</div>"
      ],
      "text/plain": [
       "                 id         price      bedrooms     bathrooms   sqft_living  \\\n",
       "count  15035.000000  1.503500e+04  15035.000000  15035.000000  15035.000000   \n",
       "mean    7517.000000  5.406827e+05      3.369139      2.115065   2083.790223   \n",
       "std     4340.374984  3.715247e+05      0.902721      0.767519    922.134087   \n",
       "min        0.000000  7.800000e+04      0.000000      0.000000    290.000000   \n",
       "25%     3758.500000  3.220000e+05      3.000000      1.750000   1430.000000   \n",
       "50%     7517.000000  4.500000e+05      3.000000      2.250000   1910.000000   \n",
       "75%    11275.500000  6.450000e+05      4.000000      2.500000   2560.000000   \n",
       "max    15034.000000  7.700000e+06     10.000000      8.000000  13540.000000   \n",
       "\n",
       "           sqft_lot        floors    waterfront          view     condition  \\\n",
       "count  1.503500e+04  15035.000000  15035.000000  15035.000000  15035.000000   \n",
       "mean   1.529697e+04      1.498071      0.007117      0.234253      3.406651   \n",
       "std    4.261282e+04      0.538522      0.084063      0.763376      0.646505   \n",
       "min    5.200000e+02      1.000000      0.000000      0.000000      1.000000   \n",
       "25%    5.027500e+03      1.000000      0.000000      0.000000      3.000000   \n",
       "50%    7.620000e+03      1.500000      0.000000      0.000000      3.000000   \n",
       "75%    1.069550e+04      2.000000      0.000000      0.000000      4.000000   \n",
       "max    1.651359e+06      3.500000      1.000000      4.000000      5.000000   \n",
       "\n",
       "              grade    sqft_above  sqft_basement      yr_built  yr_renovated  \\\n",
       "count  15035.000000  15035.000000   15035.000000  15035.000000  15035.000000   \n",
       "mean       7.660725   1794.158164     289.632059   1971.100432     83.798936   \n",
       "std        1.179803    831.738609     440.663284     29.407612    400.398498   \n",
       "min        1.000000    290.000000       0.000000   1900.000000      0.000000   \n",
       "25%        7.000000   1190.000000       0.000000   1951.000000      0.000000   \n",
       "50%        7.000000   1570.000000       0.000000   1975.000000      0.000000   \n",
       "75%        8.000000   2230.000000     550.000000   1997.000000      0.000000   \n",
       "max       13.000000   9410.000000    4130.000000   2015.000000   2015.000000   \n",
       "\n",
       "            zipcode           lat          long  sqft_living15     sqft_lot15  \n",
       "count  15035.000000  15035.000000  15035.000000   15035.000000   15035.000000  \n",
       "mean   98078.031726     47.560721   -122.213677    1992.754772   12823.884935  \n",
       "std       53.297815      0.138164      0.141294     691.456442   27736.259787  \n",
       "min    98001.000000     47.155900   -122.519000     399.000000     651.000000  \n",
       "25%    98033.000000     47.472700   -122.328000    1490.000000    5100.000000  \n",
       "50%    98065.000000     47.571900   -122.231000    1850.000000    7610.000000  \n",
       "75%    98117.000000     47.678300   -122.126000    2360.000000   10076.000000  \n",
       "max    98199.000000     47.777600   -121.315000    6210.000000  871200.000000  "
      ]
     },
     "execution_count": 9,
     "metadata": {},
     "output_type": "execute_result"
    }
   ],
   "source": [
    "# numerical statistics of columns in data\n",
    "train_df.describe() "
   ]
  },
  {
   "cell_type": "code",
   "execution_count": 10,
   "metadata": {},
   "outputs": [
    {
     "name": "stdout",
     "output_type": "stream",
     "text": [
      "<class 'pandas.core.frame.DataFrame'>\n",
      "RangeIndex: 6468 entries, 0 to 6467\n",
      "Data columns (total 20 columns):\n",
      "id               6468 non-null int64\n",
      "date             6468 non-null object\n",
      "bedrooms         6468 non-null int64\n",
      "bathrooms        6468 non-null float64\n",
      "sqft_living      6468 non-null int64\n",
      "sqft_lot         6468 non-null int64\n",
      "floors           6468 non-null float64\n",
      "waterfront       6468 non-null int64\n",
      "view             6468 non-null int64\n",
      "condition        6468 non-null int64\n",
      "grade            6468 non-null int64\n",
      "sqft_above       6468 non-null int64\n",
      "sqft_basement    6468 non-null int64\n",
      "yr_built         6468 non-null int64\n",
      "yr_renovated     6468 non-null int64\n",
      "zipcode          6468 non-null int64\n",
      "lat              6468 non-null float64\n",
      "long             6468 non-null float64\n",
      "sqft_living15    6468 non-null int64\n",
      "sqft_lot15       6468 non-null int64\n",
      "dtypes: float64(4), int64(15), object(1)\n",
      "memory usage: 1010.7+ KB\n"
     ]
    }
   ],
   "source": [
    "test_df.info()"
   ]
  },
  {
   "cell_type": "code",
   "execution_count": 11,
   "metadata": {},
   "outputs": [
    {
     "name": "stdout",
     "output_type": "stream",
     "text": [
      "(15035, 21)\n",
      "(6468, 20)\n"
     ]
    }
   ],
   "source": [
    "# shape of data\n",
    "print(train_df.shape)\n",
    "print(test_df.shape)"
   ]
  },
  {
   "cell_type": "code",
   "execution_count": 12,
   "metadata": {
    "scrolled": false
   },
   "outputs": [
    {
     "name": "stderr",
     "output_type": "stream",
     "text": [
      "/Users/bmy4415/.pyenv/versions/3.5.4/lib/python3.5/site-packages/scipy/stats/stats.py:1713: FutureWarning: Using a non-tuple sequence for multidimensional indexing is deprecated; use `arr[tuple(seq)]` instead of `arr[seq]`. In the future this will be interpreted as an array index, `arr[np.array(seq)]`, which will result either in an error or a different result.\n",
      "  return np.add.reduce(sorted[indexer] * weights, axis=axis) / sumval\n"
     ]
    },
    {
     "data": {
      "image/png": "[encoded data removed]",
      "text/plain": [
       "<Figure size 1440x720 with 1 Axes>"
      ]
     },
     "metadata": {
      "needs_background": "light"
     },
     "output_type": "display_data"
    },
    {
     "name": "stdout",
     "output_type": "stream",
     "text": [
      "mean of price: 540682.6531426671\n",
      "std of price: 371524.6603903916\n",
      "skew: 4.290252396939529\n",
      "kurt: 40.15491919350329\n"
     ]
    }
   ],
   "source": [
    "# output distribution\n",
    "f, ax = plt.subplots(figsize=(20,10))\n",
    "ax.set_title('price distribution')\n",
    "ax.set_xlabel('price')\n",
    "sns.distplot(train_df.price, ax=ax, kde=False)\n",
    "# data.price.plot.hist(ax=ax, bins=30, edgecolor='black', color='red')\n",
    "\n",
    "plt.show()\n",
    "print('mean of price:', train_df.price.mean())\n",
    "print('std of price:', train_df.price.std())\n",
    "print('skew:', train_df['price'].skew()) # 오른쪽으로 긴 꼬리\n",
    "print('kurt:', train_df['price'].kurt()) # 2~3 이내를 정규분포에 가깝게 평탄하다고 해석 => 정규분포와 매우 멂"
   ]
  },
  {
   "cell_type": "code",
   "execution_count": 13,
   "metadata": {},
   "outputs": [
    {
     "name": "stdout",
     "output_type": "stream",
     "text": [
      "log1p skew: 0.4330991387067915\n",
      "log1p kurt: 0.7316049825519855\n"
     ]
    }
   ],
   "source": [
    "# price가 skewed 이므로 normaliztion 시도\n",
    "print('log1p skew:', np.log1p(train_df['price']).skew())\n",
    "print('log1p kurt:', np.log1p(train_df['price']).kurt())"
   ]
  },
  {
   "cell_type": "code",
   "execution_count": 14,
   "metadata": {},
   "outputs": [],
   "source": [
    "# price normalization\n",
    "# train_df['price'] = np.log1p(train_df['price'])"
   ]
  },
  {
   "cell_type": "code",
   "execution_count": 15,
   "metadata": {},
   "outputs": [
    {
     "data": {
      "text/plain": [
       "id               15035\n",
       "date               365\n",
       "price             3263\n",
       "bedrooms            11\n",
       "bathrooms           29\n",
       "sqft_living        863\n",
       "sqft_lot          7678\n",
       "floors               6\n",
       "waterfront           2\n",
       "view                 5\n",
       "condition            5\n",
       "grade               12\n",
       "sqft_above         789\n",
       "sqft_basement      271\n",
       "yr_built           116\n",
       "yr_renovated        65\n",
       "zipcode             70\n",
       "lat               4692\n",
       "long               716\n",
       "sqft_living15      682\n",
       "sqft_lot15        6958\n",
       "dtype: int64"
      ]
     },
     "execution_count": 15,
     "metadata": {},
     "output_type": "execute_result"
    }
   ],
   "source": [
    "# categorical인지 numerical인지 확인\n",
    "train_df.nunique()"
   ]
  },
  {
   "cell_type": "code",
   "execution_count": 16,
   "metadata": {},
   "outputs": [
    {
     "name": "stdout",
     "output_type": "stream",
     "text": [
      "sqft_living : before: 1.4714137250528125 5.251052318414965 => -0.035745101681499934 -0.05320442033328909\n",
      "sqft_lot : before: 13.063414417656206 284.94672694598296 => 0.9637552183392046 3.3209552513757\n",
      "sqft_above : before: 1.4460080680592546 3.4022187863259004 => 0.2528162250698482 -0.31707548878923264\n",
      "sqft_basement : before: 1.5763445992828624 2.7085396515219506 => 0.48385256166784557 -1.71271169651884\n",
      "lat : before: -0.48682988646238273 -0.6753388924515127 => -0.4914938138681153 -0.6692782880251178\n",
      "long : before: 0.8840484561667199 1.050448897343919 => nan nan\n",
      "sqft_living15 : before: 1.1065938309038392 1.5950775283272915 => 0.20525058575113472 -0.20843236049313596\n",
      "sqft_lot15 : before: 9.509189855329153 150.76934428017316 => 0.9684535166245153 3.559305824324047\n"
     ]
    },
    {
     "name": "stderr",
     "output_type": "stream",
     "text": [
      "/Users/bmy4415/.pyenv/versions/3.5.4/lib/python3.5/site-packages/ipykernel_launcher.py:8: RuntimeWarning: invalid value encountered in log1p\n",
      "  \n"
     ]
    }
   ],
   "source": [
    "# column에 대해서 전처리 할 경우 test도 동일하게 해줘야함\n",
    "total = pd.concat([train_df.drop(['price'], axis=1), test_df])\n",
    "cols = ['sqft_living', 'sqft_lot', 'sqft_above', 'sqft_basement', 'lat', 'long',\n",
    "       'sqft_living15', 'sqft_lot15']\n",
    "\n",
    "for col in cols:\n",
    "    print(col, ':', 'before:', total[col].skew(), total[col].kurt(), '=>',\n",
    "          np.log1p(total[col]).skew(), np.log1p(total[col]).kurt())"
   ]
  },
  {
   "cell_type": "code",
   "execution_count": 17,
   "metadata": {},
   "outputs": [],
   "source": [
    "# lat과 long을 제외하고 normalization 적용\n",
    "cols.remove('lat')\n",
    "cols.remove('long')\n",
    "\n",
    "for col in cols:\n",
    "    total[col] = np.log1p(total[col])"
   ]
  },
  {
   "cell_type": "code",
   "execution_count": 18,
   "metadata": {},
   "outputs": [],
   "source": [
    "# date는 월, 년이 바뀌는 경우 급격하게 바뀌므로 yyyy, mm, dd로 분리\n",
    "total['yyyy'] = total['date'].str[:4].astype(int)\n",
    "total['mm'] = total['date'].str[4:6].astype(int)\n",
    "total['dd'] = total['date'].str[6:8].astype(int)\n",
    "total = total.drop(['date'], axis=1)"
   ]
  },
  {
   "cell_type": "code",
   "execution_count": 19,
   "metadata": {},
   "outputs": [],
   "source": [
    "# x_train, y_train, x_test 생성\n",
    "x_train = total.drop(['id'], axis=1)[:train_df.shape[0]]\n",
    "y_train = train_df.price\n",
    "x_test = total.drop(['id'], axis=1)[train_df.shape[0]:]\n",
    "\n",
    "# trainset, validset split\n",
    "x_train, x_valid, y_train, y_valid = train_test_split(x_train, y_train, test_size=0.2, random_state=42)"
   ]
  },
  {
   "cell_type": "code",
   "execution_count": 20,
   "metadata": {},
   "outputs": [
    {
     "name": "stdout",
     "output_type": "stream",
     "text": [
      "(12028, 21)\n",
      "(12028,)\n",
      "(6468, 21)\n"
     ]
    }
   ],
   "source": [
    "print(x_train.shape)\n",
    "print(y_train.shape)\n",
    "print(x_test.shape)"
   ]
  },
  {
   "cell_type": "code",
   "execution_count": 21,
   "metadata": {},
   "outputs": [],
   "source": [
    "# f, ax = plt.subplots(2, 2, figsize=(20,10))\n",
    "\n",
    "# sns.countplot(x='waterfront', data=train_df, ax=ax[0, 0])\n",
    "# sns.countplot(x='view', data=train_df, ax=ax[0, 1])\n",
    "# sns.countplot(x='grade', data=train_df, ax=ax[1, 0])\n",
    "# sns.countplot(x='condition', data=train_df, ax=ax[1, 1])\n",
    "\n",
    "# plt.show()"
   ]
  },
  {
   "cell_type": "markdown",
   "metadata": {},
   "source": [
    "## model\n",
    "- DNN\n",
    "- linear regression\n",
    "- randomforest regressor\n",
    "- gradient boosting\n",
    "- light gbm\n",
    "- xgboost"
   ]
  },
  {
   "cell_type": "code",
   "execution_count": 36,
   "metadata": {},
   "outputs": [],
   "source": [
    "class DNN():\n",
    "    def __init__(self, input_dim):    \n",
    "        model = Sequential()\n",
    "        model.add(Dense(32, input_dim=input_dim, activation='tanh'))\n",
    "        model.add(Dropout(0.15))\n",
    "        model.add(Dense(32, activation='relu'))\n",
    "        model.add(Dropout(0.15))\n",
    "        model.add(Dense(32, activation='relu'))\n",
    "        model.add(Dropout(0.15))\n",
    "        model.add(Dense(1, activation=\"linear\")) # regression\n",
    "        \n",
    "        optimizer = Adam(lr=0.01)\n",
    "        model.compile(optimizer=optimizer,\n",
    "                      loss='mean_squared_error',\n",
    "                      metrics=['mean_squared_error'])\n",
    "        \n",
    "        self.model = model\n",
    "        \n",
    "    def fit(self, x, y):\n",
    "        early_stopping = EarlyStopping(monitor='val_mean_squared_error', patience=10)\n",
    "        return self.model.fit(x, y, epochs=1000, batch_size=256,\n",
    "                             validation_split=0.15,\n",
    "                             callbacks=[early_stopping],\n",
    "                             verbose=0)\n",
    "\n",
    "    def predict(self, x):\n",
    "        return np.squeeze(self.model.predict(x)) # return 1d array"
   ]
  },
  {
   "cell_type": "code",
   "execution_count": 23,
   "metadata": {},
   "outputs": [],
   "source": [
    "# plot loss, accuracy\n",
    "def plot_history(history):\n",
    "    fig, (ax1, ax2) = plt.subplots(1, 2, figsize=(20, 10))\n",
    "    \n",
    "    # Plot training & validation accuracy values\n",
    "    ax1.plot(history.history['mean_squared_error'])\n",
    "    ax1.plot(history.history['val_mean_squared_error'])\n",
    "    ax1.set_title('Model mse')\n",
    "    ax1.set_ylabel('MSE')\n",
    "    ax1.set_xlabel('Epoch')\n",
    "    ax1.legend(['Train', 'Valid'], loc='upper left')\n",
    "    \n",
    "    # Plot training & validation loss values\n",
    "    ax2.plot(history.history['loss'])\n",
    "    ax2.plot(history.history['val_loss'])\n",
    "    ax2.set_title('Model loss')\n",
    "    ax2.set_ylabel('Loss')\n",
    "    ax2.set_xlabel('Epoch')\n",
    "    ax2.legend(['Train', 'Valid'], loc='upper left')"
   ]
  },
  {
   "cell_type": "code",
   "execution_count": 37,
   "metadata": {
    "scrolled": false
   },
   "outputs": [
    {
     "name": "stdout",
     "output_type": "stream",
     "text": [
      "valid mse: 357967.6543137756\n"
     ]
    },
    {
     "data": {
      "image/png": "[encoded data removed]",
      "text/plain": [
       "<Figure size 1440x720 with 2 Axes>"
      ]
     },
     "metadata": {
      "needs_background": "light"
     },
     "output_type": "display_data"
    }
   ],
   "source": [
    "# dense layer model\n",
    "def train(x_train, x_valid, y_train, y_valid, x_test):\n",
    "    reg = DNN(21) # number of columns in x_train\n",
    "    history = reg.fit(x_train, y_train)\n",
    "    valid = reg.predict(x_valid)\n",
    "    test = reg.predict(x_test)\n",
    "    plot_history(history)\n",
    "    return valid, test\n",
    "    \n",
    "dnn_val, dnn_test = train(x_train, x_valid, y_train, y_valid, x_test)\n",
    "# print('valid mse:', np.sqrt(np.mean(np.square(np.expm1(y_valid)-np.expm1(dnn_val)))))\n",
    "print('valid mse:', np.sqrt(np.mean(np.square(y_valid-dnn_val))))"
   ]
  },
  {
   "cell_type": "code",
   "execution_count": 25,
   "metadata": {
    "scrolled": false
   },
   "outputs": [
    {
     "name": "stdout",
     "output_type": "stream",
     "text": [
      "valid mse: 203691.61551204388\n"
     ]
    },
    {
     "name": "stderr",
     "output_type": "stream",
     "text": [
      "/Users/bmy4415/.pyenv/versions/3.5.4/lib/python3.5/site-packages/sklearn/linear_model/base.py:485: RuntimeWarning: internal gelsd driver lwork query error, required iwork dimension not returned. This is likely the result of LAPACK bug 0038, fixed in LAPACK 3.2.2 (released July 21, 2010). Falling back to 'gelss' driver.\n",
      "  linalg.lstsq(X, y)\n"
     ]
    }
   ],
   "source": [
    "# linear regression\n",
    "from sklearn.linear_model import LinearRegression\n",
    "\n",
    "def train(x_train, x_valid, y_train, y_valid, x_test):\n",
    "    model = LinearRegression()\n",
    "    model = model.fit(x_train, y_train)\n",
    "    valid = model.predict(x_valid)\n",
    "    test = model.predict(x_test)\n",
    "    return valid, test\n",
    "    \n",
    "lin_val, lin_test = train(x_train, x_valid, y_train, y_valid, x_test)\n",
    "# print('valid rmse:', np.sqrt(np.mean(np.square(np.expm1(y_valid)-np.expm1(lin_val)))))\n",
    "print('valid mse:', np.sqrt(np.mean(np.square(y_valid-lin_val))))"
   ]
  },
  {
   "cell_type": "code",
   "execution_count": 26,
   "metadata": {},
   "outputs": [
    {
     "name": "stdout",
     "output_type": "stream",
     "text": [
      "valid mse: 142833.78875339305\n"
     ]
    }
   ],
   "source": [
    "# randomforest regressor\n",
    "from sklearn.ensemble import RandomForestRegressor\n",
    "\n",
    "def train(x_train, x_valid, y_train, y_valid, x_test):\n",
    "    model = RandomForestRegressor(n_estimators=1000)\n",
    "    model = model.fit(x_train, y_train)\n",
    "    valid = model.predict(x_valid)\n",
    "    test = model.predict(x_test)\n",
    "    return valid, test\n",
    "    \n",
    "rdf_val, rdf_test = train(x_train, x_valid, y_train, y_valid, x_test)\n",
    "# print('valid rmse:', np.sqrt(np.mean(np.square(np.expm1(y_valid)-np.expm1(rdf_val)))))\n",
    "print('valid mse:', np.sqrt(np.mean(np.square(y_valid-rdf_val))))"
   ]
  },
  {
   "cell_type": "code",
   "execution_count": 27,
   "metadata": {},
   "outputs": [
    {
     "name": "stdout",
     "output_type": "stream",
     "text": [
      "valid mse: 126882.0246147264\n"
     ]
    }
   ],
   "source": [
    "# gradient boosting regressor\n",
    "from sklearn.ensemble import GradientBoostingRegressor\n",
    "\n",
    "def train(x_train, x_valid, y_train, y_valid, x_test):\n",
    "    model = GradientBoostingRegressor(n_estimators=1500)\n",
    "    model = model.fit(x_train, y_train)\n",
    "    valid = model.predict(x_valid)\n",
    "    test = model.predict(x_test)\n",
    "    return valid, test\n",
    "    \n",
    "gbr_val, gbr_test = train(x_train, x_valid, y_train, y_valid, x_test)\n",
    "# print('valid rmse:', np.sqrt(np.mean(np.square(np.expm1(y_valid)-np.expm1(gbr_val)))))\n",
    "print('valid mse:', np.sqrt(np.mean(np.square(y_valid-gbr_val))))"
   ]
  },
  {
   "cell_type": "code",
   "execution_count": 28,
   "metadata": {},
   "outputs": [
    {
     "name": "stderr",
     "output_type": "stream",
     "text": [
      "/Users/bmy4415/.pyenv/versions/3.5.4/lib/python3.5/site-packages/lightgbm/__init__.py:46: UserWarning: Starting from version 2.2.1, the library file in distribution wheels for macOS is built by the Apple Clang (Xcode_8.3.3) compiler.\n",
      "This means that in case of installing LightGBM from PyPI via the ``pip install lightgbm`` command, you don't need to install the gcc compiler anymore.\n",
      "Instead of that, you need to install the OpenMP library, which is required for running LightGBM on the system with the Apple Clang compiler.\n",
      "You can install the OpenMP library by the following command: ``brew install libomp``.\n",
      "  \"You can install the OpenMP library by the following command: ``brew install libomp``.\", UserWarning)\n"
     ]
    },
    {
     "name": "stdout",
     "output_type": "stream",
     "text": [
      "valid mse: 130862.45347930482\n"
     ]
    }
   ],
   "source": [
    "# lightgbm\n",
    "from lightgbm import LGBMRegressor\n",
    "\n",
    "def train(x_train, x_valid, y_train, y_valid, x_test):\n",
    "    model = LGBMRegressor(n_estimators=1500)\n",
    "    model = model.fit(x_train, y_train)\n",
    "    valid = model.predict(x_valid)\n",
    "    test = model.predict(x_test)\n",
    "    return valid, test\n",
    "\n",
    "lgb_val, lgb_test = train(x_train, x_valid, y_train, y_valid, x_test)\n",
    "# print('valid rmse:', np.sqrt(np.mean(np.square(np.expm1(y_valid)-np.expm1(lgb_val)))))\n",
    "print('valid mse:', np.sqrt(np.mean(np.square(y_valid-lgb_val))))"
   ]
  },
  {
   "cell_type": "code",
   "execution_count": 29,
   "metadata": {},
   "outputs": [
    {
     "name": "stderr",
     "output_type": "stream",
     "text": [
      "/Users/bmy4415/.pyenv/versions/3.5.4/lib/python3.5/site-packages/xgboost/core.py:587: FutureWarning: Series.base is deprecated and will be removed in a future version\n",
      "  if getattr(data, 'base', None) is not None and \\\n"
     ]
    },
    {
     "name": "stdout",
     "output_type": "stream",
     "text": [
      "valid mse: 126153.68802177103\n"
     ]
    }
   ],
   "source": [
    "# xgboost\n",
    "from xgboost import XGBRegressor\n",
    "\n",
    "def train(x_train, x_valid, y_train, y_valid, x_test):\n",
    "    model = XGBRegressor(n_estimators=1500)\n",
    "    model = model.fit(x_train, y_train)\n",
    "    valid = model.predict(x_valid)\n",
    "    test = model.predict(x_test)\n",
    "    return valid, test\n",
    "\n",
    "xgb_val, xgb_test = train(x_train, x_valid, y_train, y_valid, x_test)\n",
    "# print('valid rmse:', np.sqrt(np.mean(np.square(np.expm1(y_valid)-np.expm1(xgb_val)))))\n",
    "print('valid mse:', np.sqrt(np.mean(np.square(y_valid-xgb_val))))"
   ]
  },
  {
   "cell_type": "code",
   "execution_count": 39,
   "metadata": {
    "scrolled": true
   },
   "outputs": [
    {
     "name": "stdout",
     "output_type": "stream",
     "text": [
      "pred.shape (3007,)\n",
      "valid mse: 129560.01289418797\n"
     ]
    }
   ],
   "source": [
    "# enbemble\n",
    "score = lin_val + rdf_val + gbr_val + lgb_val + xgb_val\n",
    "lin_ratio = lin_val/score\n",
    "rdf_ratio = rdf_val/score\n",
    "gbr_ratio = gbr_val/score\n",
    "lgb_ratio = lgb_val/score\n",
    "xgb_ratio = xgb_val/score\n",
    "\n",
    "pred = lin_val*lin_ratio + rdf_val*rdf_ratio + gbr_val*gbr_ratio + lgb_val*lgb_ratio + xgb_val*xgb_ratio\n",
    "\n",
    "# pred = np.sum([\n",
    "#     reg_val*0.1,\n",
    "#     lin_val*0.07,\n",
    "#     rid_val*0.07,\n",
    "#     ela_val*0.00,\n",
    "#     bay_val*0.06,\n",
    "#     gbr_val*0.7\n",
    "# ], axis=0)\n",
    "\n",
    "print('pred.shape', pred.shape)\n",
    "# print('valid rmse:', np.sqrt(np.mean(np.square(np.expm1(y_valid)-np.expm1(pred)))))\n",
    "print('valid mse:', np.sqrt(np.mean(np.square(y_valid-pred))))"
   ]
  },
  {
   "cell_type": "code",
   "execution_count": null,
   "metadata": {},
   "outputs": [],
   "source": [
    "# submission\n",
    "\n",
    "pred = np.sum([\n",
    "    reg_test*0.1,\n",
    "    lin_test*0.07,\n",
    "    rid_test*0.07,\n",
    "    ela_test*0.00,\n",
    "    bay_test*0.06,\n",
    "    gbr_test*0.7\n",
    "], axis=0)\n",
    "pred = pd.DataFrame(pred)\n",
    "pred['id'] = test_df['id']\n",
    "pred.columns = ['price', 'id']\n",
    "pred.head()"
   ]
  },
  {
   "cell_type": "code",
   "execution_count": null,
   "metadata": {},
   "outputs": [],
   "source": [
    "pred[['id', 'price']].to_csv('./submission.csv', index=False)"
   ]
  },
  {
   "cell_type": "code",
   "execution_count": null,
   "metadata": {},
   "outputs": [],
   "source": []
  }
 ],
 "metadata": {
  "kernelspec": {
   "display_name": "Python 3",
   "language": "python",
   "name": "python3"
  }
 },
 "nbformat": 4,
 "nbformat_minor": 2
}
