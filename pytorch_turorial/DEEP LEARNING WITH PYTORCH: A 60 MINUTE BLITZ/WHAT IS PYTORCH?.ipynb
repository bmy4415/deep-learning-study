{
 "cells": [
  {
   "cell_type": "code",
   "execution_count": 2,
   "metadata": {},
   "outputs": [],
   "source": [
    "import torch"
   ]
  },
  {
   "cell_type": "code",
   "execution_count": 7,
   "metadata": {},
   "outputs": [
    {
     "name": "stdout",
     "output_type": "stream",
     "text": [
      "tensor([[ 0.0000e+00, -4.6566e-10, -6.9914e+19],\n",
      "        [-1.5849e+29,  2.8889e-33,  1.4013e-45],\n",
      "        [ 2.3919e-33,  1.4013e-45,  2.3919e-33],\n",
      "        [ 1.4013e-45,  2.6708e-33,  1.4013e-45],\n",
      "        [ 2.7011e-33,  1.4013e-45,  2.6711e-33]]) <class 'torch.Tensor'>\n"
     ]
    }
   ],
   "source": [
    "# empty 5x3 matrix\n",
    "x = torch.empty(5, 3)\n",
    "print(x, type(x))"
   ]
  },
  {
   "cell_type": "code",
   "execution_count": 8,
   "metadata": {},
   "outputs": [
    {
     "name": "stdout",
     "output_type": "stream",
     "text": [
      "tensor([[0.0964, 0.7070, 0.2229],\n",
      "        [0.0456, 0.4247, 0.6808],\n",
      "        [0.9165, 0.5527, 0.8074],\n",
      "        [0.8114, 0.0189, 0.4145],\n",
      "        [0.5576, 0.5429, 0.9911]]) <class 'torch.Tensor'>\n"
     ]
    }
   ],
   "source": [
    "# randomly initialized 5x3 matrix\n",
    "x = torch.rand(5, 3)\n",
    "print(x, type(x))"
   ]
  },
  {
   "cell_type": "code",
   "execution_count": 12,
   "metadata": {},
   "outputs": [
    {
     "name": "stdout",
     "output_type": "stream",
     "text": [
      "tensor([[0, 0, 0],\n",
      "        [0, 0, 0],\n",
      "        [0, 0, 0],\n",
      "        [0, 0, 0],\n",
      "        [0, 0, 0]]) <class 'torch.Tensor'> torch.int64\n"
     ]
    }
   ],
   "source": [
    "# 5x3 matrix filled with 0 and dtype long\n",
    "x = torch.zeros(5, 3, dtype=torch.long)\n",
    "print(x, type(x), x.dtype)"
   ]
  },
  {
   "cell_type": "code",
   "execution_count": 15,
   "metadata": {},
   "outputs": [
    {
     "name": "stdout",
     "output_type": "stream",
     "text": [
      "tensor([5.5000, 3.0000]) <class 'torch.Tensor'> torch.float32\n"
     ]
    }
   ],
   "source": [
    "# construct tensor directly from data\n",
    "x = torch.tensor([5.5, 3])\n",
    "print(x, type(x), x.dtype)"
   ]
  },
  {
   "cell_type": "code",
   "execution_count": 20,
   "metadata": {},
   "outputs": [
    {
     "name": "stdout",
     "output_type": "stream",
     "text": [
      "tensor([[1., 1., 1.],\n",
      "        [1., 1., 1.],\n",
      "        [1., 1., 1.],\n",
      "        [1., 1., 1.],\n",
      "        [1., 1., 1.]], dtype=torch.float64) torch.float64 4533417736\n",
      "tensor([[0.0294, 0.1715, 0.9970],\n",
      "        [0.1221, 0.9346, 0.8208],\n",
      "        [0.5304, 0.6602, 0.0134],\n",
      "        [0.3364, 0.3874, 0.0096],\n",
      "        [0.6085, 0.1711, 0.8859]]) torch.float32 4483065824\n"
     ]
    }
   ],
   "source": [
    "# create tensor based on existing one\n",
    "x = x.new_ones(5, 3, dtype=torch.double)\n",
    "print(x, x.dtype, id(x))\n",
    "\n",
    "x = torch.rand_like(x, dtype=torch.float)\n",
    "print(x, x.dtype, id(x))"
   ]
  },
  {
   "cell_type": "code",
   "execution_count": 25,
   "metadata": {},
   "outputs": [
    {
     "name": "stdout",
     "output_type": "stream",
     "text": [
      "torch.Size([5, 3]) <class 'torch.Size'> [5, 3]\n"
     ]
    }
   ],
   "source": [
    "# get tensor's size\n",
    "# type torch.Size == tuple\n",
    "print(x.size(), type(x.size()), list(x.size()))"
   ]
  },
  {
   "cell_type": "code",
   "execution_count": 43,
   "metadata": {},
   "outputs": [
    {
     "name": "stdout",
     "output_type": "stream",
     "text": [
      "x: tensor([[0.0294, 0.1715, 0.9970],\n",
      "        [0.1221, 0.9346, 0.8208],\n",
      "        [0.5304, 0.6602, 0.0134],\n",
      "        [0.3364, 0.3874, 0.0096],\n",
      "        [0.6085, 0.1711, 0.8859]])\n",
      "y: tensor([[0.3232, 0.2194, 0.5416],\n",
      "        [0.7129, 0.1288, 0.6510],\n",
      "        [0.7905, 0.9972, 0.5840],\n",
      "        [0.7286, 0.0869, 0.8749],\n",
      "        [0.1476, 0.7802, 0.7019]])\n",
      "x+y: tensor([[0.3526, 0.3909, 1.5386],\n",
      "        [0.8350, 1.0635, 1.4717],\n",
      "        [1.3209, 1.6574, 0.5974],\n",
      "        [1.0650, 0.4743, 0.8845],\n",
      "        [0.7561, 0.9513, 1.5878]])\n",
      "--------------------------------------\n",
      "torch.add(x, y): tensor([[0.3526, 0.3909, 1.5386],\n",
      "        [0.8350, 1.0635, 1.4717],\n",
      "        [1.3209, 1.6574, 0.5974],\n",
      "        [1.0650, 0.4743, 0.8845],\n",
      "        [0.7561, 0.9513, 1.5878]])\n",
      "--------------------------------------\n",
      "tensor([[0.3526, 0.3909, 1.5386],\n",
      "        [0.8350, 1.0635, 1.4717],\n",
      "        [1.3209, 1.6574, 0.5974],\n",
      "        [1.0650, 0.4743, 0.8845],\n",
      "        [0.7561, 0.9513, 1.5878]])\n",
      "--------------------------------------\n",
      "y.add(x): tensor([[0.3526, 0.3909, 1.5386],\n",
      "        [0.8350, 1.0635, 1.4717],\n",
      "        [1.3209, 1.6574, 0.5974],\n",
      "        [1.0650, 0.4743, 0.8845],\n",
      "        [0.7561, 0.9513, 1.5878]])\n",
      "y: tensor([[0.3232, 0.2194, 0.5416],\n",
      "        [0.7129, 0.1288, 0.6510],\n",
      "        [0.7905, 0.9972, 0.5840],\n",
      "        [0.7286, 0.0869, 0.8749],\n",
      "        [0.1476, 0.7802, 0.7019]])\n"
     ]
    }
   ],
   "source": [
    "# matrix addition\n",
    "y = torch.rand(5,3)\n",
    "print('x:', x)\n",
    "print('y:', y)\n",
    "print('x+y:', x + y)\n",
    "print('--------------------------------------')\n",
    "\n",
    "print('torch.add(x, y):', torch.add(x, y))\n",
    "print('--------------------------------------')\n",
    "\n",
    "result = torch.empty(5, 3)\n",
    "torch.add(x, y, out=result)\n",
    "print(result)\n",
    "\n",
    "print('--------------------------------------')\n",
    "print('y.add(x):', y.add(x))\n",
    "print('y:', y)"
   ]
  },
  {
   "cell_type": "code",
   "execution_count": 44,
   "metadata": {},
   "outputs": [
    {
     "name": "stdout",
     "output_type": "stream",
     "text": [
      "x: tensor([[0.0294, 0.1715, 0.9970],\n",
      "        [0.1221, 0.9346, 0.8208],\n",
      "        [0.5304, 0.6602, 0.0134],\n",
      "        [0.3364, 0.3874, 0.0096],\n",
      "        [0.6085, 0.1711, 0.8859]])\n",
      "y: tensor([[0.3526, 0.3909, 1.5386],\n",
      "        [0.8350, 1.0635, 1.4717],\n",
      "        [1.3209, 1.6574, 0.5974],\n",
      "        [1.0650, 0.4743, 0.8845],\n",
      "        [0.7561, 0.9513, 1.5878]])\n"
     ]
    }
   ],
   "source": [
    "# in-place addition\n",
    "# Any operation that mutates a tensor in-place is post-fixed with an _. For example: x.copy_(y), x.t_(), will change x.\n",
    "y.add_(x)\n",
    "print('x:', x)\n",
    "print('y:', y)"
   ]
  },
  {
   "cell_type": "code",
   "execution_count": 46,
   "metadata": {},
   "outputs": [
    {
     "name": "stdout",
     "output_type": "stream",
     "text": [
      "x[:, 1]: tensor([0.1715, 0.9346, 0.6602, 0.3874, 0.1711])\n"
     ]
    }
   ],
   "source": [
    "# numpy like indexing\n",
    "print('x[:, 1]:', x[:, 1])"
   ]
  },
  {
   "cell_type": "code",
   "execution_count": 52,
   "metadata": {},
   "outputs": [
    {
     "name": "stdout",
     "output_type": "stream",
     "text": [
      "x: tensor([[ 0.7162,  0.5314, -0.6820, -0.6752],\n",
      "        [ 0.6262, -0.6024, -1.1568,  1.9076],\n",
      "        [-0.6742,  0.5660,  0.1276, -1.4177],\n",
      "        [ 0.6172, -2.5691,  0.4735,  0.6304]])\n",
      "y: tensor([ 0.7162,  0.5314, -0.6820, -0.6752,  0.6262, -0.6024, -1.1568,  1.9076,\n",
      "        -0.6742,  0.5660,  0.1276, -1.4177,  0.6172, -2.5691,  0.4735,  0.6304])\n",
      "z: tensor([[ 0.7162,  0.5314, -0.6820, -0.6752,  0.6262, -0.6024, -1.1568,  1.9076],\n",
      "        [-0.6742,  0.5660,  0.1276, -1.4177,  0.6172, -2.5691,  0.4735,  0.6304]])\n",
      "torch.Size([4, 4]) torch.Size([16]) torch.Size([2, 8])\n"
     ]
    }
   ],
   "source": [
    "# resizing matrix\n",
    "x = torch.randn(4, 4)\n",
    "print('x:', x)\n",
    "y = x.view(16)\n",
    "print('y:', y)\n",
    "z = x.view(-1, 8) # the size -1 is inferred from other dimensions\n",
    "print('z:', z)\n",
    "print(x.size(), y.size(), z.size())"
   ]
  },
  {
   "cell_type": "code",
   "execution_count": 54,
   "metadata": {},
   "outputs": [
    {
     "name": "stdout",
     "output_type": "stream",
     "text": [
      "tensor([-1.4985]) -1.4984947443008423\n"
     ]
    }
   ],
   "source": [
    "# If you have a one element tensor, use .item() to get the value as a Python number\n",
    "x = torch.randn(1)\n",
    "print(x, x.item())"
   ]
  },
  {
   "cell_type": "code",
   "execution_count": 61,
   "metadata": {},
   "outputs": [
    {
     "name": "stdout",
     "output_type": "stream",
     "text": [
      "tensor([1., 1., 1., 1., 1.])\n",
      "[1. 1. 1. 1. 1.] <class 'numpy.ndarray'> float32\n",
      "-------------------\n",
      "tensor([2., 2., 2., 2., 2.])\n",
      "[2. 2. 2. 2. 2.]\n",
      "4681972760 4681967936\n"
     ]
    }
   ],
   "source": [
    "# Converting a Torch Tensor to a NumPy Array\n",
    "# .numpy() 이용할 경우, torch tensor와 numpy ndarray가 같은 값을 공유\n",
    "a = torch.ones(5)\n",
    "print(a)\n",
    "b = a.numpy()\n",
    "print(b, type(b), b.dtype)\n",
    "print('-------------------')\n",
    "\n",
    "a.add_(1)\n",
    "print(a)\n",
    "print(b)\n",
    "print(id(a), id(b))"
   ]
  },
  {
   "cell_type": "code",
   "execution_count": 63,
   "metadata": {},
   "outputs": [
    {
     "name": "stdout",
     "output_type": "stream",
     "text": [
      "[2. 2. 2. 2. 2.]\n",
      "tensor([2., 2., 2., 2., 2.], dtype=torch.float64)\n"
     ]
    }
   ],
   "source": [
    "# See how changing the np array changed the Torch Tensor automatically\n",
    "# torch.from_numpy()를 이용할 경우, torch tensor와 numpy ndarray가 같은 값을 공유\n",
    "import numpy as np\n",
    "a = np.ones(5)\n",
    "b = torch.from_numpy(a)\n",
    "np.add(a, 1, out=a)\n",
    "print(a)\n",
    "print(b)"
   ]
  },
  {
   "cell_type": "code",
   "execution_count": 68,
   "metadata": {},
   "outputs": [
    {
     "name": "stdout",
     "output_type": "stream",
     "text": [
      "False\n"
     ]
    }
   ],
   "source": [
    "# Tensors can be moved onto any device using the .to method.\n",
    "print(torch.cuda.is_available())"
   ]
  }
 ],
 "metadata": {
  "kernelspec": {
   "display_name": "Python 3",
   "language": "python",
   "name": "python3"
  },
  "language_info": {
   "codemirror_mode": {
    "name": "ipython",
    "version": 3
   },
   "file_extension": ".py",
   "mimetype": "text/x-python",
   "name": "python",
   "nbconvert_exporter": "python",
   "pygments_lexer": "ipython3",
   "version": "3.5.4"
  }
 },
 "nbformat": 4,
 "nbformat_minor": 2
}
