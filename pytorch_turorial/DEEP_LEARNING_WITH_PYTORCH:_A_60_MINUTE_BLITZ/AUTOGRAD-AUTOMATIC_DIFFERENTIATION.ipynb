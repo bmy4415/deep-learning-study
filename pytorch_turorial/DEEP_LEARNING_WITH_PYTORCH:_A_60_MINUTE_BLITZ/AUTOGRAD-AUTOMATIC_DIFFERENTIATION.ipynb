{
 "cells": [
  {
   "cell_type": "code",
   "execution_count": 58,
   "metadata": {},
   "outputs": [],
   "source": [
    "import torch"
   ]
  },
  {
   "cell_type": "code",
   "execution_count": 59,
   "metadata": {},
   "outputs": [
    {
     "name": "stdout",
     "output_type": "stream",
     "text": [
      "tensor([[1., 1.],\n",
      "        [1., 1.]], requires_grad=True)\n"
     ]
    }
   ],
   "source": [
    "# Create a tensor and set requires_grad=True to track computation with it\n",
    "x = torch.ones(2, 2, requires_grad=True)\n",
    "print(x)"
   ]
  },
  {
   "cell_type": "code",
   "execution_count": 60,
   "metadata": {},
   "outputs": [
    {
     "name": "stdout",
     "output_type": "stream",
     "text": [
      "tensor([[3., 3.],\n",
      "        [3., 3.]], grad_fn=<AddBackward0>)\n"
     ]
    }
   ],
   "source": [
    "# Do tensor operation\n",
    "y = x + 2\n",
    "print(y)"
   ]
  },
  {
   "cell_type": "code",
   "execution_count": 61,
   "metadata": {},
   "outputs": [
    {
     "name": "stdout",
     "output_type": "stream",
     "text": [
      "tensor([[1., 1.],\n",
      "        [1., 1.]], requires_grad=True)\n",
      "tensor([[3., 3.],\n",
      "        [3., 3.]], grad_fn=<AddBackward0>)\n",
      "<AddBackward0 object at 0x1123cf400>\n"
     ]
    }
   ],
   "source": [
    "# y was created by tensor operation, so it has grad_fn\n",
    "print(x)\n",
    "print(y)\n",
    "print(y.grad_fn)"
   ]
  },
  {
   "cell_type": "code",
   "execution_count": 62,
   "metadata": {},
   "outputs": [
    {
     "name": "stdout",
     "output_type": "stream",
     "text": [
      "tensor([[27., 27.],\n",
      "        [27., 27.]], grad_fn=<MulBackward0>)\n",
      "tensor(27., grad_fn=<MeanBackward1>)\n"
     ]
    }
   ],
   "source": [
    "# more operation\n",
    "z = y * y * 3\n",
    "out = z.mean()\n",
    "print(z)\n",
    "print(out)"
   ]
  },
  {
   "cell_type": "code",
   "execution_count": 63,
   "metadata": {},
   "outputs": [
    {
     "name": "stdout",
     "output_type": "stream",
     "text": [
      "None None\n",
      "tensor([[1., 1.],\n",
      "        [1., 1.]])\n",
      "tensor([[3., 3.],\n",
      "        [3., 3.]])\n"
     ]
    }
   ],
   "source": [
    "# tensor without grad\n",
    "x_prime = torch.ones(2, 2)\n",
    "y_prime = x_prime + 2\n",
    "print(x_prime.grad_fn, y_prime.grad_fn)\n",
    "print(x_prime)\n",
    "print(y_prime)"
   ]
  },
  {
   "cell_type": "code",
   "execution_count": 64,
   "metadata": {},
   "outputs": [
    {
     "name": "stdout",
     "output_type": "stream",
     "text": [
      "False\n",
      "True\n",
      "None\n",
      "<SumBackward0 object at 0x1123cfe80>\n"
     ]
    }
   ],
   "source": [
    "# .requires_grad_( ... ) changes an existing Tensor’s requires_grad flag in-place. The input flag defaults to False if not given.\n",
    "# .requires_grad_(True) => in-place로 requires_grad 값을 바꿔줌\n",
    "a = torch.randn(2, 2)\n",
    "a = ((a * 3) / (a - 1))\n",
    "print(a.requires_grad) # False\n",
    "a.requires_grad_(True)\n",
    "print(a.requires_grad) # True\n",
    "print(a.grad_fn) # None\n",
    "b = (a * a).sum()\n",
    "print(b.grad_fn) # sumbackword"
   ]
  },
  {
   "cell_type": "code",
   "execution_count": 65,
   "metadata": {},
   "outputs": [
    {
     "name": "stdout",
     "output_type": "stream",
     "text": [
      "tensor(1) torch.Size([])\n"
     ]
    }
   ],
   "source": [
    "temp = torch.tensor(1)\n",
    "print(temp, temp.size()) # scalar는 size가 없음, matrix부터 size가 있음"
   ]
  },
  {
   "cell_type": "code",
   "execution_count": 66,
   "metadata": {},
   "outputs": [],
   "source": [
    "# backprop\n",
    "# .backward()를 call하면, 해당 tensor에 대한 gradient값이 각각 .grad에 accumulate됨\n",
    "out.backward()"
   ]
  },
  {
   "cell_type": "code",
   "execution_count": 67,
   "metadata": {},
   "outputs": [
    {
     "name": "stdout",
     "output_type": "stream",
     "text": [
      "tensor([[4.5000, 4.5000],\n",
      "        [4.5000, 4.5000]])\n",
      "None\n",
      "None\n",
      "<AddBackward0 object at 0x1123cfb00> True\n",
      "<MulBackward0 object at 0x1123cfa90> True\n"
     ]
    }
   ],
   "source": [
    "print(x.grad) # dout/dx\n",
    "print(z.grad) # dout/dz?\n",
    "print(y.grad) # dout/dy?\n",
    "\n",
    "print(y.grad_fn, y.requires_grad)\n",
    "print(z.grad_fn, z.requires_grad)"
   ]
  },
  {
   "cell_type": "code",
   "execution_count": 52,
   "metadata": {},
   "outputs": [
    {
     "name": "stdout",
     "output_type": "stream",
     "text": [
      "tensor([ 1.0182,  1.6517, -1.0267]) <class 'torch.Tensor'> tensor(2.1952)\n",
      "tensor([ 2.0364,  3.3034, -2.0534]) <class 'torch.Tensor'> tensor(4.3904)\n",
      "tensor([ 4.0728,  6.6068, -4.1068]) <class 'torch.Tensor'> tensor(8.7809)\n",
      "tensor([ 8.1457, 13.2135, -8.2137]) <class 'torch.Tensor'> tensor(17.5617)\n",
      "tensor([ 16.2913,  26.4271, -16.4273]) <class 'torch.Tensor'> tensor(35.1234)\n",
      "tensor([ 32.5826,  52.8541, -32.8547]) <class 'torch.Tensor'> tensor(70.2468)\n",
      "tensor([ 65.1653, 105.7083, -65.7094]) <class 'torch.Tensor'> tensor(140.4937)\n",
      "tensor([ 130.3306,  211.4165, -131.4187]) <class 'torch.Tensor'> tensor(280.9873)\n",
      "tensor([ 260.6612,  422.8330, -262.8374]) <class 'torch.Tensor'> tensor(561.9747)\n",
      "tensor([ 521.3224,  845.6661, -525.6748], grad_fn=<MulBackward0>)\n"
     ]
    }
   ],
   "source": [
    "x = torch.randn(3, requires_grad=True) # track history\n",
    "y = x * 2\n",
    "while y.data.norm() < 1000:\n",
    "    print(y.data, type(y.data), y.data.norm())\n",
    "    y = y * 2\n",
    "    \n",
    "print(y)"
   ]
  },
  {
   "cell_type": "code",
   "execution_count": 53,
   "metadata": {},
   "outputs": [
    {
     "name": "stdout",
     "output_type": "stream",
     "text": [
      "tensor([1.0240e+02, 1.0240e+03, 1.0240e-01])\n"
     ]
    }
   ],
   "source": [
    "# Now in this case y is no longer a scalar. torch.autograd could not compute the full Jacobian directly,\n",
    "# but if we just want the vector-Jacobian product, simply pass the vector to backward as argument:\n",
    "v = torch.tensor([0.1, 1.0, 0.0001], dtype=torch.float) # make tensor from array\n",
    "y.backward(v) # do backward propagation as if v is incoming gradient\n",
    "print(x.grad)"
   ]
  },
  {
   "cell_type": "code",
   "execution_count": 56,
   "metadata": {},
   "outputs": [
    {
     "name": "stdout",
     "output_type": "stream",
     "text": [
      "True\n",
      "True\n",
      "False\n"
     ]
    }
   ],
   "source": [
    "# You can also stop autograd from tracking history on Tensors with .requires_grad=True\n",
    "# by wrapping the code block in with torch.no_grad():\n",
    "# with torch.no_grad()를 이용해서 일시적으로 track하지 않게 할 수 있음\n",
    "print(x.requires_grad)\n",
    "print((x**2).requires_grad)\n",
    "\n",
    "with torch.no_grad():\n",
    "    print((x**2).requires_grad)"
   ]
  },
  {
   "cell_type": "code",
   "execution_count": null,
   "metadata": {},
   "outputs": [],
   "source": []
  }
 ],
 "metadata": {
  "kernelspec": {
   "display_name": "Python 3",
   "language": "python",
   "name": "python3"
  },
  "language_info": {
   "codemirror_mode": {
    "name": "ipython",
    "version": 3
   },
   "file_extension": ".py",
   "mimetype": "text/x-python",
   "name": "python",
   "nbconvert_exporter": "python",
   "pygments_lexer": "ipython3",
   "version": "3.5.4"
  }
 },
 "nbformat": 4,
 "nbformat_minor": 2
}
